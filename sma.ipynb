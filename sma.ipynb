{
 "cells": [
  {
   "cell_type": "code",
   "execution_count": 84,
   "metadata": {},
   "outputs": [
    {
     "name": "stdout",
     "output_type": "stream",
     "text": [
      "成功下載！\n"
     ]
    }
   ],
   "source": [
    "from dcard import Dcard\n",
    "dcard = Dcard()\n",
    "ariticle_metas = dcard.forums('exam').get_metas(num=1000, sort='new')\n",
    "ids = [meta['id'] for meta in ariticle_metas]\n",
    "articles = dcard.posts(ids).get()\n",
    "articles = dcard.posts(ariticle_metas).get(comments=True)\n",
    "article_dict = {}\n",
    "article_list= []\n",
    "comment_dict = {}\n",
    "comment_list =[]\n",
    "\n",
    "\n",
    "\n",
    "\n",
    "\n",
    "status, fails = posts.download(resources)\n",
    "print('成功下載！' if len(fails) == 0 else '出了點錯下載不完全喔')"
   ]
  },
  {
   "cell_type": "code",
   "execution_count": 2,
   "metadata": {},
   "outputs": [],
   "source": [
    "import pandas as pd\n",
    "# my_df = pd.DataFrame(articles.result())\n",
    "# my_df.to_csv('my_csv_exam.csv')"
   ]
  },
  {
   "cell_type": "code",
   "execution_count": 5,
   "metadata": {},
   "outputs": [
    {
     "name": "stderr",
     "output_type": "stream",
     "text": [
      "/home/minglun-wu/anaconda3/lib/python3.6/site-packages/ipykernel/__main__.py:11: SettingWithCopyWarning: \n",
      "A value is trying to be set on a copy of a slice from a DataFrame\n",
      "\n",
      "See the caveats in the documentation: http://pandas.pydata.org/pandas-docs/stable/indexing.html#indexing-view-versus-copy\n"
     ]
    }
   ],
   "source": [
    "import json\n",
    "from pprint import pprint\n",
    "# json.loads(ptt['artComments'])\n",
    "data  = []\n",
    "for x in range(len(ptt)):\n",
    "#     print(ptt['artComments'])\n",
    "#     ptt['artComments'][x] = str(ptt['artComments'][x])\n",
    "#     print(type(ptt['artComments'])\n",
    "#     print(ptt['artComments'][x].encode('utf-8'))\n",
    "#     content\n",
    "    ptt['artComments'][x]=json.loads(ptt['artComments'][x])"
   ]
  },
  {
   "cell_type": "code",
   "execution_count": null,
   "metadata": {},
   "outputs": [],
   "source": []
  },
  {
   "cell_type": "code",
   "execution_count": 8,
   "metadata": {},
   "outputs": [],
   "source": [
    "df =ptt"
   ]
  },
  {
   "cell_type": "code",
   "execution_count": null,
   "metadata": {},
   "outputs": [],
   "source": [
    "df['artComments'][0]"
   ]
  },
  {
   "cell_type": "code",
   "execution_count": null,
   "metadata": {},
   "outputs": [],
   "source": [
    "len(articles.result())"
   ]
  },
  {
   "cell_type": "code",
   "execution_count": 84,
   "metadata": {},
   "outputs": [],
   "source": [
    "import pandas as pd\n",
    "df = pd.read_csv(\"ptt_id.csv\")\n",
    "# nsysu = pd.read_csv(\"my_csv_nsysu.csv\")"
   ]
  },
  {
   "cell_type": "code",
   "execution_count": null,
   "metadata": {},
   "outputs": [],
   "source": [
    "# ptt =pd.DataFrame(ptt)\n",
    "# ptt.to_csv(\"ptt.csv\")\n",
    "df"
   ]
  },
  {
   "cell_type": "code",
   "execution_count": 97,
   "metadata": {},
   "outputs": [],
   "source": [
    "import ast\n",
    "for index in df[\"artComments\"]:\n",
    "    try:\n",
    "        df[\"artComments\"][index]= ast.literal_eval(index)\n",
    "    except:\n",
    "        pass\n",
    "# print(df)\n",
    "\n",
    "df_comment = df[['_id','artComments']]\n",
    "# df.to_csv(\"comment_nsysu.csv\")"
   ]
  },
  {
   "cell_type": "code",
   "execution_count": 98,
   "metadata": {},
   "outputs": [
    {
     "data": {
      "text/plain": [
       "\"[{'cmtStatus': '噓', 'cmtPoster': 'r30385', 'cmtContent': ':...', 'cmtDate': '2018-10-10 03:42:00+00:00'}, {'cmtStatus': '推', 'cmtPoster': 'waijr', 'cmtContent': ':南台灣大學南台大', 'cmtDate': '2018-10-10 03:42:00+00:00'}, {'cmtStatus': '噓', 'cmtPoster': 'WeAntiTVBS', 'cmtContent': ':台中亞歷山大學？？？？？？？', 'cmtDate': '2018-10-10 03:42:00+00:00'}, {'cmtStatus': '推', 'cmtPoster': 'gsmzxcvbnm', 'cmtContent': ':太遠了吧', 'cmtDate': '2018-10-10 03:42:00+00:00'}, {'cmtStatus': '推', 'cmtPoster': 'aaabbb111', 'cmtContent': ':台大南霸天', 'cmtDate': '2018-10-10 03:42:00+00:00'}, {'cmtStatus': '噓', 'cmtPoster': 'cliff860429', 'cmtContent': ':洗洗睡啦', 'cmtDate': '2018-10-10 03:42:00+00:00'}, {'cmtStatus': '→', 'cmtPoster': 'fuhaho', 'cmtContent': ':開始各種抱大腿', 'cmtDate': '2018-10-10 03:42:00+00:00'}, {'cmtStatus': '→', 'cmtPoster': 'lolic', 'cmtContent': ':廢物校不要自抬身價好不好', 'cmtDate': '2018-10-10 03:43:00+00:00'}, {'cmtStatus': '→', 'cmtPoster': 'waijr', 'cmtContent': ':高雄就不能有台灣大學嗎?不要歧視南部人', 'cmtDate': '2018-10-10 03:43:00+00:00'}, {'cmtStatus': '→', 'cmtPoster': 'serrier', 'cmtContent': ':全部都合併成台大好囉', 'cmtDate': '2018-10-10 03:43:00+00:00'}, {'cmtStatus': '→', 'cmtPoster': 'CCY0927', 'cmtContent': ':癡人說夢', 'cmtDate': '2018-10-10 03:43:00+00:00'}, {'cmtStatus': '推', 'cmtPoster': 'bybe', 'cmtContent': ':太遠了吧', 'cmtDate': '2018-10-10 03:44:00+00:00'}, {'cmtStatus': '推', 'cmtPoster': 'blue999', 'cmtContent': ':想太多了吧==台大', 'cmtDate': '2018-10-10 03:44:00+00:00'}, {'cmtStatus': '→', 'cmtPoster': 'blue999', 'cmtContent': ':能先跟成大清大這一些就不錯了', 'cmtDate': '2018-10-10 03:45:00+00:00'}, {'cmtStatus': '推', 'cmtPoster': 'uytqazescf', 'cmtContent': ':從南到北', 'cmtDate': '2018-10-10 03:45:00+00:00'}, {'cmtStatus': '推', 'cmtPoster': 'KEYSOLIDER', 'cmtContent': ':南部台大', 'cmtDate': '2018-10-10 03:45:00+00:00'}, {'cmtStatus': '推', 'cmtPoster': 'Okonkwo', 'cmtContent': ':改成台吱大', 'cmtDate': '2018-10-10 03:46:00+00:00'}, {'cmtStatus': '推', 'cmtPoster': 'xampp', 'cmtContent': ':台大不是該跟台科大併?就在隔壁而已乾脆併', 'cmtDate': '2018-10-10 03:46:00+00:00'}, {'cmtStatus': '→', 'cmtPoster': 'k44754', 'cmtContent': ':南部糞校自抬身價', 'cmtDate': '2018-10-10 03:46:00+00:00'}, {'cmtStatus': '推', 'cmtPoster': 'elle', 'cmtContent': ':...', 'cmtDate': '2018-10-10 03:46:00+00:00'}, {'cmtStatus': '→', 'cmtPoster': 'xampp', 'cmtContent': ':一併', 'cmtDate': '2018-10-10 03:46:00+00:00'}, {'cmtStatus': '推', 'cmtPoster': 'yoyodiy', 'cmtContent': ':這個比較對等科系都類似有醫有理工有文法', 'cmtDate': '2018-10-10 03:46:00+00:00'}, {'cmtStatus': '噓', 'cmtPoster': 'yuponkimo', 'cmtContent': ':台大先跟師大併', 'cmtDate': '2018-10-10 03:47:00+00:00'}, {'cmtStatus': '→', 'cmtPoster': 'ams9', 'cmtContent': ':支持所有國立大學併校', 'cmtDate': '2018-10-10 03:47:00+00:00'}, {'cmtStatus': '→', 'cmtPoster': 'yoyodiy', 'cmtContent': ':不像陽明交大醫學院併理工學校', 'cmtDate': '2018-10-10 03:47:00+00:00'}, {'cmtStatus': '推', 'cmtPoster': 'waijr', 'cmtContent': ':不要答應學歷貶值', 'cmtDate': '2018-10-10 03:48:00+00:00'}, {'cmtStatus': '推', 'cmtPoster': 'kenro', 'cmtContent': ':想被併了，其實一直不知道中山到底在幹嘛', 'cmtDate': '2018-10-10 03:49:00+00:00'}, {'cmtStatus': '→', 'cmtPoster': 'olaqe', 'cmtContent': ':台灣大學西子灣校區?聽起來很威', 'cmtDate': '2018-10-10 03:50:00+00:00'}, {'cmtStatus': '→', 'cmtPoster': 'gn00399745', 'cmtContent': ':併校本來就是以科系互補為考量吧，y', 'cmtDate': '2018-10-10 03:51:00+00:00'}, {'cmtStatus': '→', 'cmtPoster': 'gn00399745', 'cmtContent': ':o叔說的反而是相反的', 'cmtDate': '2018-10-10 03:51:00+00:00'}, {'cmtStatus': '噓', 'cmtPoster': 'bandwandbenz', 'cmtContent': ':提升高校競爭力就是把廢物學校直接', 'cmtDate': '2018-10-10 03:51:00+00:00'}, {'cmtStatus': '→', 'cmtPoster': 'bandwandbenz', 'cmtContent': ':廢掉', 'cmtDate': '2018-10-10 03:51:00+00:00'}, {'cmtStatus': '→', 'cmtPoster': 'gn00399745', 'cmtContent': ':兩校合併如果科系都一樣光吵經費就', 'cmtDate': '2018-10-10 03:51:00+00:00'}, {'cmtStatus': '→', 'cmtPoster': 'gn00399745', 'cmtContent': ':吵不完了', 'cmtDate': '2018-10-10 03:51:00+00:00'}, {'cmtStatus': '推', 'cmtPoster': 'konanno1', 'cmtContent': ':併校名為台灣猴子大學，台猴大學', 'cmtDate': '2018-10-10 03:52:00+00:00'}, {'cmtStatus': '→', 'cmtPoster': 'bandwandbenz', 'cmtContent': ':指考平均無法及格的唸三小大學沒', 'cmtDate': '2018-10-10 03:52:00+00:00'}, {'cmtStatus': '→', 'cmtPoster': 'bandwandbenz', 'cmtContent': ':拿頂標談什麼專業', 'cmtDate': '2018-10-10 03:52:00+00:00'}, {'cmtStatus': '→', 'cmtPoster': 'mimikillua', 'cmtContent': ':看吧大學太多間自己都想整併退場了', 'cmtDate': '2018-10-10 03:53:00+00:00'}, {'cmtStatus': '推', 'cmtPoster': 'yoyodiy', 'cmtContent': ':真的指考連平均60都拿不到真的不該念大學', 'cmtDate': '2018-10-10 03:53:00+00:00'}, {'cmtStatus': '噓', 'cmtPoster': 'sbflight', 'cmtContent': ':蘿莉控大學', 'cmtDate': '2018-10-10 03:54:00+00:00'}, {'cmtStatus': '推', 'cmtPoster': 'haru97724', 'cmtContent': ':乾不要噢', 'cmtDate': '2018-10-10 03:54:00+00:00'}, {'cmtStatus': '→', 'cmtPoster': 'yoyodiy', 'cmtContent': ':連午淡江都有平均62分了不及格是啥感覺', 'cmtDate': '2018-10-10 03:54:00+00:00'}, {'cmtStatus': '推', 'cmtPoster': 'Spinner3', 'cmtContent': ':還不如高雄的大學併一間', 'cmtDate': '2018-10-10 03:57:00+00:00'}, {'cmtStatus': '推', 'cmtPoster': 'kmt520', 'cmtContent': ':不是啊指考平均60也只有學店能念啊', 'cmtDate': '2018-10-10 03:57:00+00:00'}, {'cmtStatus': '噓', 'cmtPoster': 'alfiema', 'cmtContent': ':為什麼不乾脆跟哈佛談合併', 'cmtDate': '2018-10-10 03:57:00+00:00'}, {'cmtStatus': '→', 'cmtPoster': 'kmt520', 'cmtContent': ':標準太低了吧？', 'cmtDate': '2018-10-10 03:57:00+00:00'}, {'cmtStatus': '推', 'cmtPoster': 'm19issmart', 'cmtContent': ':併高大啦中山大學楠梓校區', 'cmtDate': '2018-10-10 03:58:00+00:00'}, {'cmtStatus': '推', 'cmtPoster': 'oaoa0123', 'cmtContent': ':中山大學有醫學系，這下真的屌打清交', 'cmtDate': '2018-10-10 03:58:00+00:00'}, {'cmtStatus': '推', 'cmtPoster': 'Tristanh', 'cmtContent': ':中山這種黨國校名消失也好', 'cmtDate': '2018-10-10 03:59:00+00:00'}, {'cmtStatus': '推', 'cmtPoster': 'yoyodiy', 'cmtContent': ':中山大本來就有醫科併不併沒太大差別', 'cmtDate': '2018-10-10 03:59:00+00:00'}, {'cmtStatus': '→', 'cmtPoster': 'yoyodiy', 'cmtContent': ':是其他理工法商學院比較爽', 'cmtDate': '2018-10-10 04:00:00+00:00'}, {'cmtStatus': '→', 'cmtPoster': 'doggie175', 'cmtContent': ':台中大學？', 'cmtDate': '2018-10-10 04:02:00+00:00'}, {'cmtStatus': '推', 'cmtPoster': 'silomin', 'cmtContent': ':是不是很多人不知道中山和中山醫不同', 'cmtDate': '2018-10-10 04:04:00+00:00'}, {'cmtStatus': '推', 'cmtPoster': 'qazzaq3977', 'cmtContent': ':台灣只需要一個大學', 'cmtDate': '2018-10-10 04:05:00+00:00'}, {'cmtStatus': '推', 'cmtPoster': 'cynric717', 'cmtContent': ':哇，會不會太遠', 'cmtDate': '2018-10-10 04:05:00+00:00'}, {'cmtStatus': '噓', 'cmtPoster': 'MartianIT', 'cmtContent': ':早就說台灣只有三間大學：', 'cmtDate': '2018-10-10 04:05:00+00:00'}, {'cmtStatus': '推', 'cmtPoster': 'pita30', 'cmtContent': ':全台灣合併成一間台灣大學就好就沒學店生', 'cmtDate': '2018-10-10 04:05:00+00:00'}, {'cmtStatus': '→', 'cmtPoster': 'MartianIT', 'cmtContent': ':台大其它公立大學私立大學', 'cmtDate': '2018-10-10 04:06:00+00:00'}, {'cmtStatus': '→', 'cmtPoster': 'nadleeh', 'cmtContent': ':學店合併', 'cmtDate': '2018-10-10 04:07:00+00:00'}, {'cmtStatus': '噓', 'cmtPoster': 'cwind07', 'cmtContent': ':直接變台大算盤打的真精', 'cmtDate': '2018-10-10 04:08:00+00:00'}, {'cmtStatus': '噓', 'cmtPoster': 'eric830204', 'cmtContent': ':可不可以有自覺', 'cmtDate': '2018-10-10 04:10:00+00:00'}, {'cmtStatus': '噓', 'cmtPoster': 'z1231002', 'cmtContent': ':中山哪間學店', 'cmtDate': '2018-10-10 04:12:00+00:00'}, {'cmtStatus': '→', 'cmtPoster': 'nightjoker', 'cmtContent': ':差太多了吃屎吧', 'cmtDate': '2018-10-10 04:13:00+00:00'}, {'cmtStatus': '噓', 'cmtPoster': 'hoberg', 'cmtContent': ':有意？？？？', 'cmtDate': '2018-10-10 04:13:00+00:00'}, {'cmtStatus': '→', 'cmtPoster': 'changbsd', 'cmtContent': ':中山大學有醫科？平行世界嗎？', 'cmtDate': '2018-10-10 04:14:00+00:00'}, {'cmtStatus': '→', 'cmtPoster': 'g5637128', 'cmtContent': ':也太遠', 'cmtDate': '2018-10-10 04:15:00+00:00'}, {'cmtStatus': '推', 'cmtPoster': 'ma4wanderer', 'cmtContent': ':重複科系那麼多併個屁', 'cmtDate': '2018-10-10 04:17:00+00:00'}, {'cmtStatus': '→', 'cmtPoster': 'ma4wanderer', 'cmtContent': ':清大竹教重複一個科系開個課從學', 'cmtDate': '2018-10-10 04:18:00+00:00'}, {'cmtStatus': '→', 'cmtPoster': 'ma4wanderer', 'cmtContent': ':期初戰到學期末', 'cmtDate': '2018-10-10 04:18:00+00:00'}, {'cmtStatus': '推', 'cmtPoster': 'c2578910', 'cmtContent': ':中山哪時有醬料了yo叔反串？', 'cmtDate': '2018-10-10 04:18:00+00:00'}, {'cmtStatus': '推', 'cmtPoster': 'Ed860227', 'cmtContent': ':中山醫在台中是要北中南三校合併嗎', 'cmtDate': '2018-10-10 04:23:00+00:00'}, {'cmtStatus': '→', 'cmtPoster': 'Ed860227', 'cmtContent': ':？', 'cmtDate': '2018-10-10 04:23:00+00:00'}, {'cmtStatus': '推', 'cmtPoster': 'filla', 'cmtContent': ':台大跟台科哪裡對等?台科是技職體系', 'cmtDate': '2018-10-10 04:23:00+00:00'}, {'cmtStatus': '→', 'cmtPoster': 'este1a', 'cmtContent': ':垃圾糞校幹你娘', 'cmtDate': '2018-10-10 04:23:00+00:00'}, {'cmtStatus': '→', 'cmtPoster': 'filla', 'cmtContent': ':根本就是台大某些教授的農場', 'cmtDate': '2018-10-10 04:24:00+00:00'}, {'cmtStatus': '→', 'cmtPoster': 'filla', 'cmtContent': ':台大沒缺先去台科洗一下經驗之後再回台大', 'cmtDate': '2018-10-10 04:24:00+00:00'}, {'cmtStatus': '推', 'cmtPoster': 'ajemtw', 'cmtContent': ':三中合一比較實際吧', 'cmtDate': '2018-10-10 04:29:00+00:00'}, {'cmtStatus': '推', 'cmtPoster': 'F100', 'cmtContent': ':我看以後就台清交成政五間大學，其它改分校', 'cmtDate': '2018-10-10 04:29:00+00:00'}, {'cmtStatus': '→', 'cmtPoster': 'ajemtw', 'cmtContent': ':北中南各一間，完美', 'cmtDate': '2018-10-10 04:29:00+00:00'}, {'cmtStatus': '推', 'cmtPoster': 'fundoshi', 'cmtContent': ':我覺得可以跟麻省理工併校欸豪不豪', 'cmtDate': '2018-10-10 04:30:00+00:00'}, {'cmtStatus': '→', 'cmtPoster': 'ajemtw', 'cmtContent': ':三中合一就叫中大大學，再也不會搞錯', 'cmtDate': '2018-10-10 04:32:00+00:00'}, {'cmtStatus': '推', 'cmtPoster': 'stardriver21', 'cmtContent': ':就叫台中大吧', 'cmtDate': '2018-10-10 04:35:00+00:00'}, {'cmtStatus': '→', 'cmtPoster': 'mecca', 'cmtContent': ':蠢了吧台大不需要和任何學校合併', 'cmtDate': '2018-10-10 04:36:00+00:00'}, {'cmtStatus': '→', 'cmtPoster': 'cyclohexane', 'cmtContent': ':一個南一個北合個屁', 'cmtDate': '2018-10-10 04:37:00+00:00'}, {'cmtStatus': '推', 'cmtPoster': 'L1ON', 'cmtContent': ':喔幹台大學店化', 'cmtDate': '2018-10-10 04:37:00+00:00'}, {'cmtStatus': '推', 'cmtPoster': 'tsming', 'cmtContent': ':抱腿', 'cmtDate': '2018-10-10 04:40:00+00:00'}, {'cmtStatus': '→', 'cmtPoster': 'exceedMyself', 'cmtContent': ':一中一台', 'cmtDate': '2018-10-10 04:42:00+00:00'}, {'cmtStatus': '→', 'cmtPoster': 'skhten', 'cmtContent': ':有夢最美', 'cmtDate': '2018-10-10 04:48:00+00:00'}, {'cmtStatus': '推', 'cmtPoster': 'Lovemail5566', 'cmtContent': ':全部都是台大', 'cmtDate': '2018-10-10 04:54:00+00:00'}, {'cmtStatus': '→', 'cmtPoster': 'shorn', 'cmtContent': ':乾脆全台灣的大學全部併成一個學校好了。這', 'cmtDate': '2018-10-10 05:09:00+00:00'}, {'cmtStatus': '→', 'cmtPoster': 'shorn', 'cmtContent': ':樣會不會直接點', 'cmtDate': '2018-10-10 05:09:00+00:00'}, {'cmtStatus': '→', 'cmtPoster': 'yo30110', 'cmtContent': ':北漂學校？', 'cmtDate': '2018-10-10 05:11:00+00:00'}, {'cmtStatus': '推', 'cmtPoster': 'gunies1111', 'cmtContent': ':你有的台大都有還比你高10分南部人', 'cmtDate': '2018-10-10 05:27:00+00:00'}, {'cmtStatus': '→', 'cmtPoster': 'gunies1111', 'cmtContent': ':哪來的自信', 'cmtDate': '2018-10-10 05:27:00+00:00'}, {'cmtStatus': '噓', 'cmtPoster': 'mickey21', 'cmtContent': ':別來', 'cmtDate': '2018-10-10 06:32:00+00:00'}, {'cmtStatus': '推', 'cmtPoster': 'ccharles', 'cmtContent': ':台中大學或灣山大學？', 'cmtDate': '2018-10-10 06:37:00+00:00'}, {'cmtStatus': '推', 'cmtPoster': 'rabbit2233', 'cmtContent': ':南部糞校潘什麼大腿', 'cmtDate': '2018-10-10 06:39:00+00:00'}, {'cmtStatus': '推', 'cmtPoster': 'Tonyx599026', 'cmtContent': ':中山大學哪來的醫科別鬧了', 'cmtDate': '2018-10-10 06:46:00+00:00'}, {'cmtStatus': '推', 'cmtPoster': 'skyprayer', 'cmtContent': ':併校救高教？病急亂投醫', 'cmtDate': '2018-10-10 07:31:00+00:00'}, {'cmtStatus': '→', 'cmtPoster': 'wulaw5566', 'cmtContent': ':做夢嗎', 'cmtDate': '2018-10-10 07:41:00+00:00'}, {'cmtStatus': '噓', 'cmtPoster': 'ppc', 'cmtContent': ':做夢', 'cmtDate': '2018-10-10 08:37:00+00:00'}, {'cmtStatus': '噓', 'cmtPoster': 'ggglu', 'cmtContent': ':抱腿==?', 'cmtDate': '2018-10-10 09:13:00+00:00'}, {'cmtStatus': '推', 'cmtPoster': 'gn00508891', 'cmtContent': ':南北大學啊', 'cmtDate': '2018-10-10 09:38:00+00:00'}, {'cmtStatus': '推', 'cmtPoster': 'donis12345', 'cmtContent': ':==', 'cmtDate': '2018-10-11 07:03:00+00:00'}]\""
      ]
     },
     "execution_count": 98,
     "metadata": {},
     "output_type": "execute_result"
    }
   ],
   "source": [
    "df_comment['artComments'][0]"
   ]
  },
  {
   "cell_type": "code",
   "execution_count": 94,
   "metadata": {},
   "outputs": [],
   "source": [
    "comment_list = []\n",
    "comment_id = 0\n",
    "for index,y in df_comment.iterrows():\n",
    "    try:\n",
    "        comment_floor =0\n",
    "        y['comments'] = ast.literal_eval(y['comments'])\n",
    "        for x in y['comments']:\n",
    "\n",
    "                comment_dict = {}\n",
    "    #             print(x)\n",
    "                comment_floor+=1\n",
    "                comment_dict[\"id\"] = y['_id']\n",
    "                comment_dict[\"floor\"] = comment_floor\n",
    "                comment_dict[\"content\"] = x[\"cmtContent\"]\n",
    "                comment_dict[\"Date\"] = x['cmtDate']\n",
    "                comment_list.append(comment_dict)\n",
    "    except:\n",
    "#             print(\"123\")\n",
    "        pass\n",
    "#         print(x[\"content\"])"
   ]
  },
  {
   "cell_type": "code",
   "execution_count": 95,
   "metadata": {},
   "outputs": [],
   "source": [
    "comment_list =pd.DataFrame(comment_list)\n",
    "comment_list.to_csv(\"comment_ptt.csv\")"
   ]
  },
  {
   "cell_type": "code",
   "execution_count": 96,
   "metadata": {},
   "outputs": [
    {
     "data": {
      "text/html": [
       "<div>\n",
       "<style scoped>\n",
       "    .dataframe tbody tr th:only-of-type {\n",
       "        vertical-align: middle;\n",
       "    }\n",
       "\n",
       "    .dataframe tbody tr th {\n",
       "        vertical-align: top;\n",
       "    }\n",
       "\n",
       "    .dataframe thead th {\n",
       "        text-align: right;\n",
       "    }\n",
       "</style>\n",
       "<table border=\"1\" class=\"dataframe\">\n",
       "  <thead>\n",
       "    <tr style=\"text-align: right;\">\n",
       "      <th></th>\n",
       "    </tr>\n",
       "  </thead>\n",
       "  <tbody>\n",
       "  </tbody>\n",
       "</table>\n",
       "</div>"
      ],
      "text/plain": [
       "Empty DataFrame\n",
       "Columns: []\n",
       "Index: []"
      ]
     },
     "execution_count": 96,
     "metadata": {},
     "output_type": "execute_result"
    }
   ],
   "source": [
    "comment_list"
   ]
  }
 ],
 "metadata": {
  "kernelspec": {
   "display_name": "Python [default]",
   "language": "python",
   "name": "python3"
  },
  "language_info": {
   "codemirror_mode": {
    "name": "ipython",
    "version": 3
   },
   "file_extension": ".py",
   "mimetype": "text/x-python",
   "name": "python",
   "nbconvert_exporter": "python",
   "pygments_lexer": "ipython3",
   "version": "3.6.8"
  }
 },
 "nbformat": 4,
 "nbformat_minor": 2
}
